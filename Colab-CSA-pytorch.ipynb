{
  "nbformat": 4,
  "nbformat_minor": 0,
  "metadata": {
    "colab": {
      "name": "Colab-CSA-pytorch.ipynb",
      "provenance": [],
      "private_outputs": true,
      "collapsed_sections": [],
      "toc_visible": true
    },
    "kernelspec": {
      "name": "python3",
      "display_name": "Python 3"
    },
    "accelerator": "GPU"
  },
  "cells": [
    {
      "cell_type": "markdown",
      "metadata": {
        "id": "xsdJTZdA35vE",
        "colab_type": "text"
      },
      "source": [
        "# Colab-CSA (pytorch)\n",
        "Original repo: [KumapowerLIU/CSA-inpainting](https://github.com/KumapowerLIU/CSA-inpainting)\n",
        "\n",
        "Yukariin's repo: [Yukariin/CSA_pytorch](https://github.com/Yukariin/CSA_pytorch)\n",
        "Thank you Yukariin for fixing the broken original.\n",
        "\n",
        "Differentiable Augmentation: [mit-han-lab/data-efficient-gans](https://github.com/mit-han-lab/data-efficient-gans)\n",
        "\n",
        "My fork: [styler00dollar/Colab-CSA-pytorch](https://github.com/styler00dollar/Colab-CSA-pytorch)"
      ]
    },
    {
      "cell_type": "code",
      "metadata": {
        "id": "KFHMIiC75LGP",
        "colab_type": "code",
        "colab": {}
      },
      "source": [
        "!nvidia-smi"
      ],
      "execution_count": null,
      "outputs": []
    },
    {
      "cell_type": "code",
      "metadata": {
        "id": "ml2BA7tpsL0V",
        "colab_type": "code",
        "colab": {}
      },
      "source": [
        "!git clone https://github.com/styler00dollar/Colab-CSA-pytorch\n",
        "!pip install tensorboardX"
      ],
      "execution_count": null,
      "outputs": []
    },
    {
      "cell_type": "markdown",
      "metadata": {
        "id": "dlhMA0dC-mXP",
        "colab_type": "text"
      },
      "source": [
        "# Training\n",
        "\n",
        "Warning: It saves into the folder named ckpt. If you only create save_dir, then it will crash during saving."
      ]
    },
    {
      "cell_type": "code",
      "metadata": {
        "id": "vX3kkedeBgDa",
        "colab_type": "code",
        "cellView": "form",
        "colab": {}
      },
      "source": [
        "#@title Create empty folders\n",
        "!mkdir /content/root\n",
        "!mkdir /content/save_dir\n",
        "!mkdir /content/save_dir/ckpt"
      ],
      "execution_count": null,
      "outputs": []
    },
    {
      "cell_type": "code",
      "metadata": {
        "id": "NSsXXEQK5Lrf",
        "colab_type": "code",
        "colab": {}
      },
      "source": [
        "%cd /content/Colab-CSA-pytorch\n",
        "!python /content/Colab-CSA-pytorch/train.py --root /content/root --save_dir /content/save_dir"
      ],
      "execution_count": null,
      "outputs": []
    },
    {
      "cell_type": "markdown",
      "metadata": {
        "id": "z8pTHarJ-j6Y",
        "colab_type": "text"
      },
      "source": [
        "# Testing "
      ]
    },
    {
      "cell_type": "code",
      "metadata": {
        "id": "NhVfzBK96e-r",
        "colab_type": "code",
        "colab": {}
      },
      "source": [
        "!python /content/CSA_pytorch/test.py --image /content/image.png \\\n",
        "--mask /content/mask.png --output /content/output.png \\\n",
        "--checkpoint /content/save_dir/ckpt/G_10000.pth"
      ],
      "execution_count": null,
      "outputs": []
    }
  ]
}
